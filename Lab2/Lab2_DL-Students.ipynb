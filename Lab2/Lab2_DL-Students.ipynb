{
 "cells": [
  {
   "cell_type": "markdown",
   "metadata": {},
   "source": [
    "<h1 style=\"text-align:center\">Deep Learning   </h1>\n",
    "<h1 style=\"text-align:center\"> Lab Session 2 - 1.5 Hours </h1>\n",
    "<h1 style=\"text-align:center\"> Convolutional Neural Network (CNN) for Handwritten Digits Recognition</h1>"
   ]
  },
  {
   "cell_type": "markdown",
   "metadata": {},
   "source": [
    "<b> Group name:</b> DeepLearning19 - Deodato Giacomo - Bucquet Anthime\n",
    " \n",
    " \n",
    "The aim of this session is to practice with Convolutional Neural Networks. Each group should fill and run appropriate notebook cells. \n",
    "\n",
    "\n",
    "Generate your final report (export as HTML) and upload it on the submission website http://bigfoot-m1.eurecom.fr/teachingsub/login (using your deeplearnXX/password). Do not forget to run all your cells before generating your final report and do not forget to include the names of all participants in the group. The lab session should be completed and submitted by May 30th 2018 (23:59:59 CET)."
   ]
  },
  {
   "cell_type": "markdown",
   "metadata": {},
   "source": [
    "# Introduction"
   ]
  },
  {
   "cell_type": "markdown",
   "metadata": {},
   "source": [
    "In the previous Lab Session, you built a Multilayer Perceptron for recognizing hand-written digits from the MNIST data-set. The best achieved accuracy on testing data was about 97%. Can you do better than these results using a deep CNN ?\n",
    "In this Lab Session, you will build, train and optimize in TensorFlow one of the early Convolutional Neural Networks,  **LeNet-5**, to go to more than 99% of accuracy. \n",
    "\n",
    "\n",
    "\n",
    "\n"
   ]
  },
  {
   "cell_type": "markdown",
   "metadata": {},
   "source": [
    "# Load MNIST Data in TensorFlow\n",
    "Run the cell below to load the MNIST data that comes with TensorFlow. You will use this data in **Section 1** and **Section 2**."
   ]
  },
  {
   "cell_type": "code",
   "execution_count": 1,
   "metadata": {},
   "outputs": [
    {
     "name": "stderr",
     "output_type": "stream",
     "text": [
      "/usr/local/lib/python3.5/dist-packages/h5py/__init__.py:36: FutureWarning: Conversion of the second argument of issubdtype from `float` to `np.floating` is deprecated. In future, it will be treated as `np.float64 == np.dtype(float).type`.\n",
      "  from ._conv import register_converters as _register_converters\n"
     ]
    },
    {
     "name": "stdout",
     "output_type": "stream",
     "text": [
      "Extracting MNIST_data/train-images-idx3-ubyte.gz\n",
      "Extracting MNIST_data/train-labels-idx1-ubyte.gz\n",
      "Extracting MNIST_data/t10k-images-idx3-ubyte.gz\n",
      "Extracting MNIST_data/t10k-labels-idx1-ubyte.gz\n",
      "Image Shape: (784,)\n",
      "Training Set: 55000 samples\n",
      "Validation Set: 5000 samples\n",
      "Test Set: 10000 samples\n"
     ]
    }
   ],
   "source": [
    "import tensorflow as tf\n",
    "import numpy as np\n",
    "from tensorflow.examples.tutorials.mnist import input_data\n",
    "from time import time\n",
    "\n",
    "mnist = input_data.read_data_sets(\"MNIST_data/\", one_hot=True)\n",
    "X_train, y_train = mnist.train.images, mnist.train.labels\n",
    "X_validation, y_validation = mnist.validation.images, mnist.validation.labels\n",
    "X_test, y_test = mnist.test.images, mnist.test.labels\n",
    "\n",
    "print(\"Image Shape: {}\".format(X_train[0].shape))\n",
    "print(\"Training Set: {} samples\".format(len(X_train)))\n",
    "print(\"Validation Set: {} samples\".format(len(X_validation)))\n",
    "print(\"Test Set: {} samples\".format(len(X_test)))\n",
    "\n",
    "epsilon = 1e-10 # this is a parameter you will use later"
   ]
  },
  {
   "cell_type": "markdown",
   "metadata": {},
   "source": [
    "# Section 1 : My First Model in TensorFlow"
   ]
  },
  {
   "cell_type": "markdown",
   "metadata": {
    "collapsed": true
   },
   "source": [
    "Before starting with CNN, let's train and test in TensorFlow the example\n",
    "**y=softmax(Wx+b)** seen in the first lab. \n",
    "\n",
    "This model reaches an accuracy of about 92 %.\n",
    "You will also learn how to launch the TensorBoard https://www.tensorflow.org/get_started/summaries_and_tensorboard to visualize the computation graph, statistics and learning curves. "
   ]
  },
  {
   "cell_type": "markdown",
   "metadata": {},
   "source": [
    "<b> Part 1 </b> : Read carefully the code in the cell below. Run it to perform training. "
   ]
  },
  {
   "cell_type": "code",
   "execution_count": 2,
   "metadata": {},
   "outputs": [
    {
     "name": "stdout",
     "output_type": "stream",
     "text": [
      "Epoch:  01   =====> Loss= 1.288568147\n",
      "Epoch:  02   =====> Loss= 0.732308971\n",
      "Epoch:  03   =====> Loss= 0.600200272\n",
      "Epoch:  04   =====> Loss= 0.536473810\n",
      "Epoch:  05   =====> Loss= 0.497731537\n",
      "Epoch:  06   =====> Loss= 0.470901849\n",
      "Epoch:  07   =====> Loss= 0.451301165\n",
      "Epoch:  08   =====> Loss= 0.435680064\n",
      "Epoch:  09   =====> Loss= 0.423353645\n",
      "Epoch:  10   =====> Loss= 0.413345681\n",
      "Epoch:  11   =====> Loss= 0.404281634\n",
      "Epoch:  12   =====> Loss= 0.396839049\n",
      "Epoch:  13   =====> Loss= 0.390208097\n",
      "Epoch:  14   =====> Loss= 0.384563916\n",
      "Epoch:  15   =====> Loss= 0.379514001\n",
      "Epoch:  16   =====> Loss= 0.374462080\n",
      "Epoch:  17   =====> Loss= 0.370331678\n",
      "Epoch:  18   =====> Loss= 0.366488553\n",
      "Epoch:  19   =====> Loss= 0.362964171\n",
      "Epoch:  20   =====> Loss= 0.359689518\n",
      "Epoch:  21   =====> Loss= 0.356679378\n",
      "Epoch:  22   =====> Loss= 0.353974787\n",
      "Epoch:  23   =====> Loss= 0.351341481\n",
      "Epoch:  24   =====> Loss= 0.348637887\n",
      "Epoch:  25   =====> Loss= 0.346562084\n",
      "Epoch:  26   =====> Loss= 0.344416684\n",
      "Epoch:  27   =====> Loss= 0.342300205\n",
      "Epoch:  28   =====> Loss= 0.340159270\n",
      "Epoch:  29   =====> Loss= 0.338198474\n",
      "Epoch:  30   =====> Loss= 0.336650787\n",
      "Epoch:  31   =====> Loss= 0.335206250\n",
      "Epoch:  32   =====> Loss= 0.333532659\n",
      "Epoch:  33   =====> Loss= 0.332020689\n",
      "Epoch:  34   =====> Loss= 0.330053726\n",
      "Epoch:  35   =====> Loss= 0.329209634\n",
      "Epoch:  36   =====> Loss= 0.327891982\n",
      "Epoch:  37   =====> Loss= 0.326795358\n",
      "Epoch:  38   =====> Loss= 0.325166583\n",
      "Epoch:  39   =====> Loss= 0.324220415\n",
      "Epoch:  40   =====> Loss= 0.323112071\n",
      "Optimization Finished!\n",
      "Accuracy: 0.9154\n"
     ]
    }
   ],
   "source": [
    "tf.reset_default_graph() # reset the default graph before defining a new model\n",
    "\n",
    "#STEP 1\n",
    "\n",
    "# Parameters\n",
    "learning_rate = 0.01\n",
    "training_epochs = 40\n",
    "batch_size = 128\n",
    "display_step = 1\n",
    "logs_path = 'log_files/'  # useful for tensorboard\n",
    "\n",
    "# tf Graph Input:  mnist data image of shape 28*28=784\n",
    "x = tf.placeholder(tf.float32, [None, 784], name='InputData')\n",
    "# 0-9 digits recognition,  10 classes\n",
    "y = tf.placeholder(tf.float32, [None, 10], name='LabelData')\n",
    "\n",
    "# Set model weights\n",
    "W = tf.Variable(tf.zeros([784, 10]), name='Weights')\n",
    "b = tf.Variable(tf.zeros([10]), name='Bias')\n",
    "\n",
    "# Construct model and encapsulating all ops into scopes, making Tensorboard's Graph visualization more convenient\n",
    "with tf.name_scope('Model'):\n",
    "    # Model\n",
    "    pred = tf.nn.softmax(tf.matmul(x, W) + b) # Softmax\n",
    "with tf.name_scope('Loss'):\n",
    "    # Minimize error using cross entropy\n",
    "    # We use tf.clip_by_value to avoid having too low numbers in the log function\n",
    "    cost = tf.reduce_mean(-tf.reduce_sum(y*tf.log(tf.clip_by_value(pred, epsilon, 1.0)), reduction_indices=1))\n",
    "with tf.name_scope('SGD'):\n",
    "    # Gradient Descent\n",
    "    optimizer = tf.train.GradientDescentOptimizer(learning_rate).minimize(cost)\n",
    "with tf.name_scope('Accuracy'):\n",
    "    # Accuracy\n",
    "    acc = tf.equal(tf.argmax(pred, 1), tf.argmax(y, 1))\n",
    "    acc = tf.reduce_mean(tf.cast(acc, tf.float32))\n",
    "\n",
    "# Initializing the variables\n",
    "init = tf.global_variables_initializer()\n",
    "# Create a summary to monitor cost tensor\n",
    "tf.summary.scalar(\"Loss\", cost)\n",
    "# Create a summary to monitor accuracy tensor\n",
    "tf.summary.scalar(\"Accuracy\", acc)\n",
    "# Merge all summaries into a single op\n",
    "merged_summary_op = tf.summary.merge_all()\n",
    "\n",
    "#STEP 2 \n",
    "\n",
    "# Launch the graph for training\n",
    "with tf.Session() as sess:\n",
    "    sess.run(init)\n",
    "    # op to write logs to Tensorboard\n",
    "    summary_writer = tf.summary.FileWriter(logs_path, graph=tf.get_default_graph())\n",
    "    # Training cycle\n",
    "    for epoch in range(training_epochs):\n",
    "        avg_cost = 0.\n",
    "        total_batch = int(mnist.train.num_examples/batch_size)\n",
    "        # Loop over all batches\n",
    "        for i in range(total_batch):\n",
    "            batch_xs, batch_ys = mnist.train.next_batch(batch_size, shuffle=(i==0))\n",
    "            # Run optimization op (backprop), cost op (to get loss value)\n",
    "            # and summary nodes\n",
    "            _, c, summary = sess.run([optimizer, cost, merged_summary_op],\n",
    "                                     feed_dict={x: batch_xs, y: batch_ys})\n",
    "            # Write logs at every iteration\n",
    "            summary_writer.add_summary(summary, epoch * total_batch + i)\n",
    "            # Compute average loss\n",
    "            avg_cost += c / total_batch\n",
    "        # Display logs per epoch step\n",
    "        if (epoch+1) % display_step == 0:\n",
    "            print(\"Epoch: \", '%02d' % (epoch+1), \"  =====> Loss=\", \"{:.9f}\".format(avg_cost))\n",
    "\n",
    "    print(\"Optimization Finished!\")\n",
    "    summary_writer.flush()\n",
    "\n",
    "    # Test model\n",
    "    # Calculate accuracy\n",
    "    print(\"Accuracy:\", acc.eval({x: mnist.test.images, y: mnist.test.labels}))"
   ]
  },
  {
   "cell_type": "markdown",
   "metadata": {},
   "source": [
    "<b> Part 2  </b>: Using Tensorboard, we can  now visualize the created graph, giving you an overview of your architecture and how all of the major components  are connected. You can also see and analyse the learning curves. \n",
    "\n",
    "To launch tensorBoard: \n",
    "- Open a Terminal and run the command line **\"tensorboard --logdir=lab_2/log_files/\"**\n",
    "- Click on \"Tensorboard web interface\" in Zoe  \n",
    "\n",
    "\n",
    "Enjoy It !! \n",
    "<img src=\"MNIST_figures/plot1.png\" align=\"center\" width=\"80%\">"
   ]
  },
  {
   "cell_type": "markdown",
   "metadata": {},
   "source": [
    "# Section 2 : The 99% MNIST Challenge !"
   ]
  },
  {
   "cell_type": "markdown",
   "metadata": {},
   "source": [
    "<b> Part 1 </b> : LeNet5 implementation"
   ]
  },
  {
   "cell_type": "markdown",
   "metadata": {},
   "source": [
    "You are now more familar with **TensorFlow** and **TensorBoard**. In this section, you are to build, train and test the baseline [LeNet-5](http://yann.lecun.com/exdb/lenet/)  model for the MNIST digits recognition problem.  \n",
    "\n",
    "Then, you will make some optimizations to get more than 99% of accuracy.\n",
    "\n",
    "For more informations, have a look at this list of results: http://rodrigob.github.io/are_we_there_yet/build/classification_datasets_results.html"
   ]
  },
  {
   "cell_type": "markdown",
   "metadata": {},
   "source": [
    "\n",
    "<img src=\"http://eblearn.sourceforge.net/lib/exe/lenet5.png\" width=\"800\" height=\"600\" align=\"center\">\n",
    "<center><span>Figure 1: Lenet-5 </span></center>\n",
    "\n",
    "\n",
    "\n",
    "\n",
    "\n",
    "The LeNet architecture takes a 28x28xC image as input, where C is the number of color channels. Since MNIST images are grayscale, C is 1 in this case.\n",
    "\n",
    "--------------------------\n",
    "**Layer 1 - Convolution (5x5):** The output shape should be 28x28x6. **Activation:** ReLU. **MaxPooling:** The output shape should be 14x14x6.\n",
    "\n",
    "**Layer 2 - Convolution (5x5):** The output shape should be 10x10x16. **Activation:** ReLU. **MaxPooling:** The output shape should be 5x5x16.\n",
    "\n",
    "**Flatten:** Flatten the output shape of the final pooling layer such that it's 1D instead of 3D.  You may need to use tf.reshape.\n",
    "\n",
    "**Layer 3 - Fully Connected:** This should have 120 outputs. **Activation:** ReLU.\n",
    "\n",
    "**Layer 4 - Fully Connected:** This should have 84 outputs. **Activation:** ReLU.\n",
    "\n",
    "**Layer 5 - Fully Connected:** This should have 10 outputs. **Activation:** softmax.\n"
   ]
  },
  {
   "cell_type": "markdown",
   "metadata": {},
   "source": [
    "<b> Question 2.1.1 </b>  Implement the Neural Network architecture described above.\n",
    "For that, your will use classes and functions from  https://www.tensorflow.org/api_docs/python/tf/nn. \n",
    "\n",
    "We give you some helper functions for weigths and bias initilization. Also you can refer to section 1. \n"
   ]
  },
  {
   "cell_type": "code",
   "execution_count": 2,
   "metadata": {},
   "outputs": [],
   "source": [
    "def LeNet5(X):    \n",
    "    \n",
    "    def weight_variable(shape):\n",
    "        return tf.Variable(tf.truncated_normal(shape, stddev=0.1))\n",
    "    def bias_variable(shape):\n",
    "        return tf.Variable(tf.constant(0.05, shape=[shape]))\n",
    "    \n",
    "    X = tf.reshape(X, [-1, 28, 28, 1])\n",
    "    conv1 = tf.nn.conv2d(input=X,\n",
    "                         filter=weight_variable([5, 5, 1, 6]),\n",
    "                         strides=[1, 1, 1, 1],\n",
    "                         padding='SAME')\n",
    "    conv1 = tf.nn.relu(tf.nn.bias_add(conv1, bias_variable(6)))\n",
    "    pool1 = tf.nn.max_pool(value=conv1,\n",
    "                           ksize=[1, 2, 2, 1],\n",
    "                           strides=[1, 2, 2, 1],\n",
    "                           padding='VALID')\n",
    "    conv2 = tf.nn.conv2d(input=pool1,\n",
    "                         filter=weight_variable([5, 5, 6, 16]),\n",
    "                         strides=[1, 1, 1, 1],\n",
    "                         padding='VALID')\n",
    "    conv2 = tf.nn.relu(tf.nn.bias_add(conv2, bias_variable(16)))\n",
    "    pool2 = tf.nn.max_pool(value=conv2,\n",
    "                           ksize=[1, 2, 2, 1],\n",
    "                           strides=[1, 2, 2, 1],\n",
    "                           padding='VALID')\n",
    "    flatten = tf.contrib.layers.flatten(pool2)\n",
    "    fc1 = tf.nn.bias_add(tf.matmul(flatten, weight_variable([400, 120])), bias_variable(120))\n",
    "    fc1 = tf.nn.relu(fc1)\n",
    "    fc2 = tf.nn.bias_add(tf.matmul(fc1, weight_variable([120,84])), bias_variable(84))\n",
    "    fc2 = tf.nn.relu(fc2)\n",
    "    fc3 = tf.nn.bias_add(tf.matmul(fc2, weight_variable([84,10])), bias_variable(10))\n",
    "    fc3 = tf.nn.softmax(fc3)\n",
    "    return fc3"
   ]
  },
  {
   "cell_type": "markdown",
   "metadata": {},
   "source": [
    "<b> Question 2.1.2. </b>  Calculate the number of parameters of this model "
   ]
  },
  {
   "cell_type": "markdown",
   "metadata": {},
   "source": [
    "conv1: $5\\ x\\ 5\\ x\\ 1\\ x\\ 6 + 6 = 156$\n",
    "\n",
    "conv2: $5\\ x\\ 5\\ x\\ 6\\ x\\ 16 + 16 = 2416$\n",
    "\n",
    "fc1: $400\\ x\\ 120 + 120 = 48120$\n",
    "\n",
    "fc2: $120\\ x\\ 84 + 84 = 10164$\n",
    "\n",
    "fc3: $84\\ x\\ 10 + 10 = 850$\n",
    "\n",
    "total: $61706$"
   ]
  },
  {
   "cell_type": "code",
   "execution_count": 6,
   "metadata": {},
   "outputs": [
    {
     "name": "stdout",
     "output_type": "stream",
     "text": [
      "Number of parameters of this model 61706 \n"
     ]
    }
   ],
   "source": [
    "total_parameters = 0\n",
    "for variable in tf.trainable_variables():\n",
    "    # shape is an array of tf.Dimension\n",
    "    shape = variable.get_shape()\n",
    "    #print(shape)\n",
    "    #print(len(shape))\n",
    "    variable_parameters = 1\n",
    "    for dim in shape:\n",
    "        #print(dim)\n",
    "        variable_parameters *= dim.value\n",
    "    #print(variable_parameters)\n",
    "    total_parameters += variable_parameters\n",
    "print(\"Number of parameters of this model {} \".format(total_parameters))"
   ]
  },
  {
   "cell_type": "markdown",
   "metadata": {},
   "source": [
    "<b> Question 2.1.3. </b>  Define your model, its accuracy and the loss function according to the following parameters (you can look at Section 1 to see what is expected):\n",
    "\n",
    "     Learning rate: 0.001\n",
    "     Loss Fucntion: Cross-entropy\n",
    "     Optimizer: tf.train.GradientDescentOptimizer\n",
    "     Number of epochs: 40\n",
    "     Batch size: 128"
   ]
  },
  {
   "cell_type": "code",
   "execution_count": 3,
   "metadata": {},
   "outputs": [],
   "source": [
    "# reset the default graph before defining a new model\n",
    "tf.reset_default_graph()\n",
    "\n",
    "x = tf.placeholder(tf.float32, shape=[None, 784], name='x')\n",
    "y = tf.placeholder(tf.float32, [None, 10], name='y')\n",
    "\n",
    "learning_rate = 0.001\n",
    "n_epochs = 40\n",
    "batch_size = 128\n",
    "verbose = 2\n",
    "logs_path = 'log_files/'\n",
    "saving_path = 'models/'\n",
    "\n",
    "with tf.name_scope('Network'):\n",
    "    model = LeNet5(x)\n",
    "with tf.name_scope('Loss'):\n",
    "    cost = tf.reduce_mean(-tf.reduce_sum(y*tf.log(tf.clip_by_value(model, epsilon, 1.0)), reduction_indices=1))\n",
    "with tf.name_scope('SGD'):\n",
    "    optimizer = tf.train.GradientDescentOptimizer(learning_rate).minimize(cost)"
   ]
  },
  {
   "cell_type": "markdown",
   "metadata": {},
   "source": [
    "<b> Question 2.1.4. </b>  Implement the evaluation function for accuracy computation "
   ]
  },
  {
   "cell_type": "code",
   "execution_count": 4,
   "metadata": {},
   "outputs": [],
   "source": [
    "def evaluate(Y_pred, Y_true):\n",
    "    acc = tf.equal(tf.argmax(Y_pred, 1), tf.argmax(Y_true, 1))\n",
    "    acc = tf.reduce_mean(tf.cast(acc, tf.float32))\n",
    "    return acc"
   ]
  },
  {
   "cell_type": "code",
   "execution_count": 5,
   "metadata": {},
   "outputs": [],
   "source": [
    "with tf.name_scope('Accuracy'):\n",
    "    accuracy = evaluate(model, y)"
   ]
  },
  {
   "cell_type": "markdown",
   "metadata": {},
   "source": [
    "<b> Question 2.1.5. </b>  Implement training pipeline and run the training data through it to train the model.\n",
    "\n",
    "- Before each epoch, shuffle the training set. \n",
    "- Print the loss per mini batch and the training/validation accuracy per epoch. (Display results every 100 epochs)\n",
    "- Save the model after training\n",
    "- Print after training the final testing accuracy \n",
    "\n"
   ]
  },
  {
   "cell_type": "code",
   "execution_count": 7,
   "metadata": {},
   "outputs": [],
   "source": [
    "# Initializing the variables\n",
    "init = tf.global_variables_initializer()\n",
    "\n",
    "# Create a summary to monitor cost and accuracy tensor\n",
    "tf.summary.scalar(\"Loss_LeNet-5_SGD\", cost)\n",
    "tf.summary.scalar(\"Accuracy_LeNet-5_SGD\", accuracy)\n",
    "\n",
    "# Merge all summaries into a single op\n",
    "merged_summary_op = tf.summary.merge_all()"
   ]
  },
  {
   "cell_type": "code",
   "execution_count": 8,
   "metadata": {},
   "outputs": [],
   "source": [
    "def train_mnist(n_epochs, batch_size, cost, optimizer, accuracy, verbose=100):\n",
    "    start = time()\n",
    "    for epoch in range(n_epochs):\n",
    "        avg_cost = 0.\n",
    "        n_batches = int(mnist.train.num_examples/batch_size)\n",
    "\n",
    "        for i in range(n_batches):\n",
    "            batch_xs, batch_ys = mnist.train.next_batch(batch_size, shuffle=(i==0))\n",
    "\n",
    "            _, c, summary = sess.run([optimizer, cost, merged_summary_op], feed_dict={x: batch_xs, y: batch_ys})\n",
    "\n",
    "            # Write logs at every iteration\n",
    "            summary_writer.add_summary(summary, epoch * n_batches + i)\n",
    "\n",
    "            # Compute average loss\n",
    "            avg_cost += c\n",
    "\n",
    "        if verbose != 0 and ((epoch + 1) % verbose == 0):\n",
    "            print(\"Epoch: {:3d} | Loss: {:.5f} | Accuracy: {:.2f} %\"\\\n",
    "                  .format(epoch+1, avg_cost/n_batches, accuracy.eval(feed_dict={x: mnist.validation.images, y: mnist.validation.labels})*100))\n",
    "        end = time() - start\n",
    "    print(\"\\n Training Time: {} min {} s\".format(int(end/60), int(end%60)))\n",
    "\n",
    "    "
   ]
  },
  {
   "cell_type": "code",
   "execution_count": 9,
   "metadata": {},
   "outputs": [
    {
     "name": "stdout",
     "output_type": "stream",
     "text": [
      "Epoch:   2 | Loss: 2.12917 | Accuracy: 49.56 %\n",
      "Epoch:   4 | Loss: 1.37251 | Accuracy: 71.74 %\n",
      "Epoch:   6 | Loss: 0.66525 | Accuracy: 83.96 %\n",
      "Epoch:   8 | Loss: 0.46188 | Accuracy: 87.54 %\n",
      "Epoch:  10 | Loss: 0.38557 | Accuracy: 89.32 %\n",
      "Epoch:  12 | Loss: 0.34211 | Accuracy: 90.66 %\n",
      "Epoch:  14 | Loss: 0.31145 | Accuracy: 91.52 %\n",
      "Epoch:  16 | Loss: 0.28748 | Accuracy: 92.36 %\n",
      "Epoch:  18 | Loss: 0.26742 | Accuracy: 92.86 %\n",
      "Epoch:  20 | Loss: 0.25058 | Accuracy: 93.26 %\n",
      "Epoch:  22 | Loss: 0.23602 | Accuracy: 93.82 %\n",
      "Epoch:  24 | Loss: 0.22309 | Accuracy: 94.08 %\n",
      "Epoch:  26 | Loss: 0.21177 | Accuracy: 94.38 %\n",
      "Epoch:  28 | Loss: 0.20186 | Accuracy: 94.72 %\n",
      "Epoch:  30 | Loss: 0.19270 | Accuracy: 94.78 %\n",
      "Epoch:  32 | Loss: 0.18458 | Accuracy: 95.20 %\n",
      "Epoch:  34 | Loss: 0.17719 | Accuracy: 95.24 %\n",
      "Epoch:  36 | Loss: 0.17071 | Accuracy: 95.46 %\n",
      "Epoch:  38 | Loss: 0.16435 | Accuracy: 95.58 %\n",
      "Epoch:  40 | Loss: 0.15865 | Accuracy: 95.74 %\n",
      "\n",
      " Training Time: 11 min 19 s\n",
      "Accuracy on the test data: 95.60 %\n"
     ]
    }
   ],
   "source": [
    "with tf.Session() as sess:\n",
    "    sess.run(init)\n",
    "    summary_writer = tf.summary.FileWriter(logs_path, graph=tf.get_default_graph())\n",
    "    train_mnist(n_epochs, batch_size, cost, optimizer, accuracy, verbose)\n",
    "    print(\"Accuracy on the test data: {:.2f} %\"\\\n",
    "          .format(accuracy.eval(feed_dict={x: mnist.test.images, y: mnist.test.labels})*100))\n",
    "    summary_writer.flush()"
   ]
  },
  {
   "cell_type": "markdown",
   "metadata": {},
   "source": [
    "<b> Question 2.1.6 </b> : Use TensorBoard to visualise and save loss and accuracy curves. \n",
    "You will save figures in the folder **\"lab_2/MNIST_figures\"** and display them in your notebook."
   ]
  },
  {
   "cell_type": "markdown",
   "metadata": {},
   "source": [
    "#### Accuracy\n",
    "<img src=\"MNIST_figures/plot2.png\" align=\"center\" width=\"80%\">\n",
    "#### Loss\n",
    "<img src=\"MNIST_figures/plot3.png\" align=\"center\" width=\"80%\">"
   ]
  },
  {
   "cell_type": "markdown",
   "metadata": {},
   "source": [
    "<b> Part 2 </b> : LeNET 5 Optimization"
   ]
  },
  {
   "cell_type": "markdown",
   "metadata": {},
   "source": [
    "<b> Question 2.2.1 </b>\n",
    "\n",
    "- Retrain your network with AdamOptimizer and then fill the table below:\n",
    "\n",
    "\n",
    "| Optimizer            |  Gradient Descent  |    AdamOptimizer    |\n",
    "|----------------------|--------------------|---------------------|\n",
    "| Testing Accuracy     |        95.6%       |        99.11 %         |       \n",
    "| Training Time        |         11 min 19 s       |       12 min 5 s          |  "
   ]
  },
  {
   "cell_type": "code",
   "execution_count": 10,
   "metadata": {},
   "outputs": [],
   "source": [
    "tf.reset_default_graph()\n",
    "\n",
    "x = tf.placeholder(tf.float32, shape=[None, 784], name='x')\n",
    "y = tf.placeholder(tf.float32, [None, 10], name='y')\n",
    "\n",
    "model = LeNet5(x)\n",
    "\n",
    "learning_rate = 0.001\n",
    "n_epochs = 40\n",
    "batch_size = 128\n",
    "verbose = 2\n",
    "logs_path = 'log_files/'\n",
    "saving_path = 'models/'\n",
    "\n",
    "with tf.name_scope('Loss'):\n",
    "    cost = tf.reduce_mean(-tf.reduce_sum(y*tf.log(tf.clip_by_value(model, epsilon, 1.0)), reduction_indices=1))\n",
    "with tf.name_scope('AdamOpti'):\n",
    "    optimizer = tf.train.AdamOptimizer(learning_rate).minimize(cost)\n",
    "with tf.name_scope('Accuracy'):\n",
    "    accuracy = evaluate(model, y)"
   ]
  },
  {
   "cell_type": "code",
   "execution_count": 11,
   "metadata": {},
   "outputs": [
    {
     "name": "stdout",
     "output_type": "stream",
     "text": [
      "Epoch:   2 | Loss: 0.09158 | Accuracy: 97.72 %\n",
      "Epoch:   4 | Loss: 0.04850 | Accuracy: 98.56 %\n",
      "Epoch:   6 | Loss: 0.03456 | Accuracy: 98.38 %\n",
      "Epoch:   8 | Loss: 0.02495 | Accuracy: 98.70 %\n",
      "Epoch:  10 | Loss: 0.01857 | Accuracy: 98.94 %\n",
      "Epoch:  12 | Loss: 0.01549 | Accuracy: 98.66 %\n",
      "Epoch:  14 | Loss: 0.01234 | Accuracy: 98.98 %\n",
      "Epoch:  16 | Loss: 0.01013 | Accuracy: 98.72 %\n",
      "Epoch:  18 | Loss: 0.00849 | Accuracy: 99.22 %\n",
      "Epoch:  20 | Loss: 0.00822 | Accuracy: 99.10 %\n",
      "Epoch:  22 | Loss: 0.00671 | Accuracy: 98.92 %\n",
      "Epoch:  24 | Loss: 0.00610 | Accuracy: 98.84 %\n",
      "Epoch:  26 | Loss: 0.00760 | Accuracy: 99.04 %\n",
      "Epoch:  28 | Loss: 0.00422 | Accuracy: 98.78 %\n",
      "Epoch:  30 | Loss: 0.00459 | Accuracy: 98.68 %\n",
      "Epoch:  32 | Loss: 0.00609 | Accuracy: 98.72 %\n",
      "Epoch:  34 | Loss: 0.00443 | Accuracy: 99.14 %\n",
      "Epoch:  36 | Loss: 0.00522 | Accuracy: 99.20 %\n",
      "Epoch:  38 | Loss: 0.00367 | Accuracy: 99.02 %\n",
      "Epoch:  40 | Loss: 0.00654 | Accuracy: 99.16 %\n",
      "\n",
      " Training Time: 12 min 5 s\n",
      "Accuracy on the test data: 99.11 %\n"
     ]
    }
   ],
   "source": [
    "# Initializing the variables\n",
    "init = tf.global_variables_initializer()\n",
    "\n",
    "# Create a summary to monitor cost and accuracy tensors\n",
    "tf.summary.scalar(\"Loss_LeNet-5_ADAM\", cost)\n",
    "tf.summary.scalar(\"Accuracy_LeNet-5_ADAM\", accuracy)\n",
    "\n",
    "# Merge all summaries into a single op\n",
    "merged_summary_op = tf.summary.merge_all()\n",
    "\n",
    "with tf.Session() as sess:\n",
    "    sess.run(init)\n",
    "    summary_writer = tf.summary.FileWriter(logs_path, graph=tf.get_default_graph())\n",
    "    train_mnist(n_epochs, batch_size, cost, optimizer, accuracy, verbose)\n",
    "    print(\"Accuracy on the test data: {:.2f} %\"\\\n",
    "          .format(accuracy.eval(feed_dict={x: mnist.test.images, y: mnist.test.labels})*100))\n",
    "    summary_writer.flush()\n"
   ]
  },
  {
   "cell_type": "markdown",
   "metadata": {},
   "source": [
    "#### Accuracy\n",
    "<img src=\"MNIST_figures/plot4.png\" align=\"center\" width=\"80%\">\n",
    "#### Loss\n",
    "<img src=\"MNIST_figures/plot5.png\" align=\"center\" width=\"80%\">"
   ]
  },
  {
   "cell_type": "markdown",
   "metadata": {},
   "source": [
    "<div class=\"alert alert-info\">\n",
    "Which optimizer gives the best accuracy on test data?\n",
    "</div>\n",
    "\n",
    "<div class=\"alert alert-success\">\n",
    "Adam combines the benefits of two other optimizers: AdaGrad and RMSProp, instead of adapting the learning rate based on the average first moment (the mean) as in RMSProp, Adam also makes use of the average of the second moments of the gradients (the uncentered variance).<br><br>\n",
    "The main down side of the algorithm is that it requires more computation to be performed for each parameter in each training step because it maintains the moving averages and variance, and calculates the scaled gradient, in fact it takes almost one minute more time than normal Gradient Descent to train for 40 epochs.\n",
    "</div>"
   ]
  },
  {
   "cell_type": "markdown",
   "metadata": {},
   "source": [
    "<b> Question 2.2.2</b> Try to add dropout (keep_prob = 0.75) before the first fully connected layer. You will use tf.nn.dropout for that purpose. What accuracy do you achieve on testing data?"
   ]
  },
  {
   "cell_type": "code",
   "execution_count": 14,
   "metadata": {},
   "outputs": [],
   "source": [
    "def LeNet5_dropout(X):  \n",
    "    \n",
    "    \n",
    "    def weight_variable(shape):\n",
    "        return tf.Variable(tf.truncated_normal(shape, stddev=0.1))\n",
    "    def bias_variable(shape):\n",
    "        return tf.Variable(tf.constant(0.05, shape=[shape]))\n",
    "    \n",
    "    X = tf.reshape(X, [-1, 28, 28, 1])\n",
    "    conv1 = tf.nn.conv2d(input=X,\n",
    "                         filter=weight_variable([5, 5, 1, 6]),\n",
    "                         strides=[1, 1, 1, 1],\n",
    "                         padding='SAME')\n",
    "    conv1 = tf.nn.relu(tf.nn.bias_add(conv1, bias_variable(6)))\n",
    "    pool1 = tf.nn.max_pool(value=conv1,\n",
    "                           ksize=[1, 2, 2, 1],\n",
    "                           strides=[1, 2, 2, 1],\n",
    "                           padding='VALID')\n",
    "    conv2 = tf.nn.conv2d(input=pool1,\n",
    "                         filter=weight_variable([5, 5, 6, 16]),\n",
    "                         strides=[1, 1, 1, 1],\n",
    "                         padding='VALID')\n",
    "    conv2 = tf.nn.relu(tf.nn.bias_add(conv2, bias_variable(16)))\n",
    "    pool2 = tf.nn.max_pool(value=conv2,\n",
    "                           ksize=[1, 2, 2, 1],\n",
    "                           strides=[1, 2, 2, 1],\n",
    "                           padding='VALID')\n",
    "    flatten = tf.contrib.layers.flatten(pool2)\n",
    "    dropout = tf.nn.dropout(flatten, 0.75)\n",
    "    fc1 = tf.nn.bias_add(tf.matmul(dropout, weight_variable([400, 120])), bias_variable(120))\n",
    "    fc1 = tf.nn.relu(fc1)\n",
    "    fc2 = tf.nn.bias_add(tf.matmul(fc1, weight_variable([120,84])), bias_variable(84))\n",
    "    fc2 = tf.nn.relu(fc2)\n",
    "    fc3 = tf.nn.bias_add(tf.matmul(fc2, weight_variable([84,10])), bias_variable(10))\n",
    "    fc3 = tf.nn.softmax(fc3)\n",
    "    return fc3"
   ]
  },
  {
   "cell_type": "code",
   "execution_count": 15,
   "metadata": {},
   "outputs": [],
   "source": [
    "tf.reset_default_graph()\n",
    "\n",
    "x = tf.placeholder(tf.float32, shape=[None, 784], name='x')\n",
    "y = tf.placeholder(tf.float32, [None, 10], name='predict_label')\n",
    "\n",
    "model_dropout = LeNet5_dropout(x)\n",
    "\n",
    "learning_rate = 0.001\n",
    "n_epochs = 100\n",
    "batch_size = 128\n",
    "verbose = 5\n",
    "logs_path = 'log_files/'\n",
    "saving_path = 'models/'\n",
    "\n",
    "with tf.name_scope('Loss'):\n",
    "    cost = tf.reduce_mean(-tf.reduce_sum(y*tf.log(tf.clip_by_value(model_dropout, epsilon, 1.0)), reduction_indices=1))\n",
    "with tf.name_scope('AdamOpti'):\n",
    "    optimizer = tf.train.AdamOptimizer(learning_rate).minimize(cost)\n",
    "with tf.name_scope('Accuracy'):\n",
    "    accuracy = evaluate(model_dropout, y)"
   ]
  },
  {
   "cell_type": "code",
   "execution_count": 16,
   "metadata": {},
   "outputs": [
    {
     "name": "stdout",
     "output_type": "stream",
     "text": [
      "Epoch:   5 | Loss: 0.05678 | Accuracy: 98.04 %\n",
      "Epoch:  10 | Loss: 0.03534 | Accuracy: 98.48 %\n",
      "Epoch:  15 | Loss: 0.02524 | Accuracy: 98.76 %\n",
      "Epoch:  20 | Loss: 0.02025 | Accuracy: 98.88 %\n",
      "Epoch:  25 | Loss: 0.01513 | Accuracy: 98.82 %\n",
      "Epoch:  30 | Loss: 0.01316 | Accuracy: 98.80 %\n",
      "Epoch:  35 | Loss: 0.01228 | Accuracy: 98.80 %\n",
      "Epoch:  40 | Loss: 0.01114 | Accuracy: 98.94 %\n",
      "Epoch:  45 | Loss: 0.01060 | Accuracy: 99.12 %\n",
      "Epoch:  50 | Loss: 0.01009 | Accuracy: 98.86 %\n",
      "Epoch:  55 | Loss: 0.00897 | Accuracy: 98.90 %\n",
      "Epoch:  60 | Loss: 0.00757 | Accuracy: 98.96 %\n",
      "Epoch:  65 | Loss: 0.00743 | Accuracy: 98.96 %\n",
      "Epoch:  70 | Loss: 0.00671 | Accuracy: 99.06 %\n",
      "Epoch:  75 | Loss: 0.00605 | Accuracy: 98.82 %\n",
      "Epoch:  80 | Loss: 0.00536 | Accuracy: 99.04 %\n",
      "Epoch:  85 | Loss: 0.00554 | Accuracy: 99.00 %\n",
      "Epoch:  90 | Loss: 0.00593 | Accuracy: 98.96 %\n",
      "Epoch:  95 | Loss: 0.00480 | Accuracy: 98.92 %\n",
      "Epoch: 100 | Loss: 0.00541 | Accuracy: 98.70 %\n",
      "\n",
      " Training Time: 37 min 46 s\n",
      "Accuracy on the test data: 98.88 %\n"
     ]
    }
   ],
   "source": [
    "# Initializing the variables\n",
    "init = tf.global_variables_initializer()\n",
    "\n",
    "# Create a summary to monitor cost and accuracy tensors\n",
    "tf.summary.scalar(\"Loss_LeNet-5_ADAM_Drop\", cost)\n",
    "tf.summary.scalar(\"Accuracy_LeNet-5_ADAM_drop\", accuracy)\n",
    "\n",
    "# Merge all summaries into a single op\n",
    "merged_summary_op = tf.summary.merge_all()\n",
    "\n",
    "with tf.Session() as sess:\n",
    "    sess.run(init)\n",
    "    summary_writer = tf.summary.FileWriter(logs_path, graph=tf.get_default_graph())\n",
    "    train_mnist(n_epochs, batch_size, cost, optimizer, accuracy, verbose)\n",
    "    print(\"Accuracy on the test data: {:.2f} %\"\\\n",
    "          .format(accuracy.eval(feed_dict={x: mnist.test.images, y: mnist.test.labels})*100))\n",
    "    summary_writer.flush()"
   ]
  },
  {
   "cell_type": "markdown",
   "metadata": {},
   "source": [
    "#### Accuracy\n",
    "<img src=\"MNIST_figures/plot6.png\" align=\"center\" width=\"80%\">\n",
    "#### Loss\n",
    "<img src=\"MNIST_figures/plot7.png\" align=\"center\" width=\"80%\">"
   ]
  },
  {
   "cell_type": "markdown",
   "metadata": {},
   "source": [
    "<div class=\"alert alert-success\">\n",
    "Of course, the accuracy is not yet as high as for the other implementations of the model because when using dropout some neurons are stochastically dropped out from the training, therefore it takes more time to obtain the same results but the network is more robust and so, less prone to overfitting.\n",
    "</div>"
   ]
  },
  {
   "cell_type": "code",
   "execution_count": null,
   "metadata": {},
   "outputs": [],
   "source": []
  }
 ],
 "metadata": {
  "anaconda-cloud": {},
  "kernelspec": {
   "display_name": "Python 3",
   "language": "python",
   "name": "python3"
  },
  "language_info": {
   "codemirror_mode": {
    "name": "ipython",
    "version": 3
   },
   "file_extension": ".py",
   "mimetype": "text/x-python",
   "name": "python",
   "nbconvert_exporter": "python",
   "pygments_lexer": "ipython3",
   "version": "3.5.2"
  },
  "widgets": {
   "state": {},
   "version": "1.1.2"
  }
 },
 "nbformat": 4,
 "nbformat_minor": 1
}
